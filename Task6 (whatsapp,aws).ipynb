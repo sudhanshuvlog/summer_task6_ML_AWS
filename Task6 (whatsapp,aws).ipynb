{
 "cells": [
  {
   "cell_type": "code",
   "execution_count": 1,
   "id": "5ea5943e",
   "metadata": {},
   "outputs": [],
   "source": [
    "#whatsapp authentication\n",
    "from selenium import webdriver\n",
    "driver = webdriver.Chrome(\"chromedriver\")\n",
    "driver.get(\"https://web.whatsapp.com\")"
   ]
  },
  {
   "cell_type": "code",
   "execution_count": 2,
   "id": "7183b039",
   "metadata": {},
   "outputs": [],
   "source": [
    "#this function will send whatsappp messg to my team group\n",
    "def whatsapp(): \n",
    "    name = \"LW Summer private group\"\n",
    "    message=\"Kalyani, please Launch an EC2 Instance instance and Attach 5 GB Volume to it. Don't forget to Mail me after its done!!\"\n",
    "    #message = input(\"Enter your message to group/user: \")\n",
    "    # Find Whom to message     \n",
    "    try:\n",
    "        user = driver.find_element_by_xpath(\n",
    "        '//span[@title = \"{}\"]'.format(name))\n",
    "        user.click()\n",
    "    except:\n",
    "        whatsapp()\n",
    "\n",
    "    text_box = driver.find_element_by_class_name('_2A8P4') \n",
    "    \n",
    "    #Send Button\n",
    "    text_box.send_keys(message)\n",
    "    driver.find_element_by_class_name(\"_1E0Oz\").click()"
   ]
  },
  {
   "cell_type": "code",
   "execution_count": 3,
   "id": "e4fc1045",
   "metadata": {},
   "outputs": [
    {
     "name": "stdout",
     "output_type": "stream",
     "text": [
      "messege send\n"
     ]
    }
   ],
   "source": [
    "#this will rekognise my face and if it's me then only send whatsapp messg\n",
    "from keras.models import load_model\n",
    "m=load_model(\"sudha_kal_model_12_06.h5\") #loading the trained binery classification model(which rekognise between me and kalyani)\n",
    "import cv2\n",
    "import numpy\n",
    "cap=cv2.VideoCapture(0)\n",
    "cascPath=\"face_detection.xml\" #to detect human face\n",
    "faceCascade=cv2.CascadeClassifier(cascPath)\n",
    "while True:\n",
    "    try:\n",
    "        ret, image=cap.read()\n",
    "        faces=faceCascade.detectMultiScale(image)\n",
    "        for (x,y,w,h) in faces:\n",
    "            #grey_image_with_box=cv2.rectangle(grey_image,(x,y),(x+w,y+h),(0,255,0),2)\n",
    "            image_with_box=cv2.rectangle(image,(x,y),(x+w,y+h),(0,0,0),2)\n",
    "        image_with_box_resize=cv2.resize(image_with_box[x:x+h,y:y+w],(150,150))\n",
    "        #cv2.imshow('me',grey_image_with_box[x:x+h,y:y+w])\n",
    "        ##cv2.imshow('me',image_with_box[x:x+h,y:y+w])\n",
    "        \n",
    "        \n",
    "        z=numpy.expand_dims(image_with_box_resize,axis=0)\n",
    "        x=m.predict(z)\n",
    "        #print(x)\n",
    "        #cv2.putText(face, str(count), (50, 50),cv2.FONT_HERSHEY_COMPLEX, 1, (0,255,0), 2)\n",
    "        if(x>0.8):\n",
    "            cv2.putText(image_with_box,\"Hey, Sudhanshu\",(70,70),cv2.FONT_HERSHEY_COMPLEX, 1, (255,0,0), 2)\n",
    "        \n",
    "        cv2.imshow('me',image_with_box)\n",
    "        if cv2.waitKey(4000) or cv2.waitKey()==13:\n",
    "            if(x>0.8):\n",
    "                whatsapp() #calling whatsapp function\n",
    "                print(\"messege send\")\n",
    "                break\n",
    "            else:\n",
    "                print(\"Not rekognised...1 fail attempt Permission denied!!\")\n",
    "                break\n",
    "            \n",
    "    except:\n",
    "        pass\n",
    "    \n",
    "cv2.destroyAllWindows()\n",
    "cap.release()"
   ]
  },
  {
   "cell_type": "code",
   "execution_count": null,
   "id": "037eac9c",
   "metadata": {},
   "outputs": [],
   "source": []
  }
 ],
 "metadata": {
  "kernelspec": {
   "display_name": "Python 3",
   "language": "python",
   "name": "python3"
  },
  "language_info": {
   "codemirror_mode": {
    "name": "ipython",
    "version": 3
   },
   "file_extension": ".py",
   "mimetype": "text/x-python",
   "name": "python",
   "nbconvert_exporter": "python",
   "pygments_lexer": "ipython3",
   "version": "3.7.9"
  }
 },
 "nbformat": 4,
 "nbformat_minor": 5
}
